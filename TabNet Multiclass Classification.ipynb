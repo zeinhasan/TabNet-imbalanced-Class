{
 "cells": [
  {
   "cell_type": "markdown",
   "metadata": {},
   "source": [
    "# Library"
   ]
  },
  {
   "cell_type": "code",
   "execution_count": 1,
   "metadata": {},
   "outputs": [],
   "source": [
    "# Importing the common libraries\n",
    "import pandas as pd\n",
    "import numpy as np\n",
    "\n",
    "# importing the libraries for data preprocessing\n",
    "from sklearn.model_selection import train_test_split\n",
    "from sklearn.preprocessing import StandardScaler\n",
    "from sklearn.impute import SimpleImputer\n",
    "from sklearn.utils.class_weight import compute_class_weight\n",
    "\n",
    "# Importing the libraries for the model\n",
    "import torch\n",
    "from pytorch_tabnet.tab_model import TabNetClassifier\n",
    "import xgboost as xgb\n",
    "from imblearn.over_sampling import SMOTE, ADASYN\n",
    "import torch\n",
    "from sklearn.preprocessing import LabelEncoder\n",
    "from sklearn.metrics import accuracy_score\n",
    "\n",
    "# Importing the libraries for the evaluation\n",
    "import matplotlib.pyplot as plt\n",
    "from sklearn.metrics import classification_report, roc_auc_score\n",
    "\n",
    "# Importing additional libraries\n",
    "import os\n",
    "import wget\n",
    "from pathlib import Path\n",
    "import shutil\n",
    "import gzip"
   ]
  },
  {
   "cell_type": "code",
   "execution_count": 2,
   "metadata": {},
   "outputs": [
    {
     "name": "stdout",
     "output_type": "stream",
     "text": [
      "Device: cuda\n"
     ]
    }
   ],
   "source": [
    "# Check if GPU is available print the device\n",
    "device = 'cuda' if torch.cuda.is_available() else 'cpu'\n",
    "print(f\"Device: {device}\")"
   ]
  },
  {
   "cell_type": "markdown",
   "metadata": {},
   "source": [
    "# Dataset"
   ]
  },
  {
   "cell_type": "code",
   "execution_count": 3,
   "metadata": {},
   "outputs": [],
   "source": [
    "# Set URL and file paths\n",
    "url = \"https://archive.ics.uci.edu/ml/machine-learning-databases/covtype/covtype.data.gz\"\n",
    "dataset_name = 'forest-cover-type'\n",
    "tmp_out = Path('./data/'+dataset_name+'.gz')\n",
    "out = Path(os.getcwd()+'/data/'+dataset_name+'.csv')"
   ]
  },
  {
   "cell_type": "code",
   "execution_count": 4,
   "metadata": {},
   "outputs": [
    {
     "name": "stdout",
     "output_type": "stream",
     "text": [
      "File already exists.\n"
     ]
    }
   ],
   "source": [
    "# Download the file if it does not exist\n",
    "out.parent.mkdir(parents=True, exist_ok=True)\n",
    "if out.exists():\n",
    "    print(\"File already exists.\")\n",
    "else:\n",
    "    print(\"Downloading file...\")\n",
    "    wget.download(url, tmp_out.as_posix())\n",
    "    with gzip.open(tmp_out, 'rb') as f_in:\n",
    "        with open(out, 'wb') as f_out:\n",
    "            shutil.copyfileobj(f_in, f_out)"
   ]
  },
  {
   "cell_type": "code",
   "execution_count": 5,
   "metadata": {},
   "outputs": [],
   "source": [
    "# Define the column names\n",
    "target = \"Covertype\"\n",
    "\n",
    "bool_columns = [\n",
    "    \"Wilderness_Area1\", \"Wilderness_Area2\", \"Wilderness_Area3\",\n",
    "    \"Wilderness_Area4\", \"Soil_Type1\", \"Soil_Type2\", \"Soil_Type3\", \"Soil_Type4\",\n",
    "    \"Soil_Type5\", \"Soil_Type6\", \"Soil_Type7\", \"Soil_Type8\", \"Soil_Type9\",\n",
    "    \"Soil_Type10\", \"Soil_Type11\", \"Soil_Type12\", \"Soil_Type13\", \"Soil_Type14\",\n",
    "    \"Soil_Type15\", \"Soil_Type16\", \"Soil_Type17\", \"Soil_Type18\", \"Soil_Type19\",\n",
    "    \"Soil_Type20\", \"Soil_Type21\", \"Soil_Type22\", \"Soil_Type23\", \"Soil_Type24\",\n",
    "    \"Soil_Type25\", \"Soil_Type26\", \"Soil_Type27\", \"Soil_Type28\", \"Soil_Type29\",\n",
    "    \"Soil_Type30\", \"Soil_Type31\", \"Soil_Type32\", \"Soil_Type33\", \"Soil_Type34\",\n",
    "    \"Soil_Type35\", \"Soil_Type36\", \"Soil_Type37\", \"Soil_Type38\", \"Soil_Type39\",\n",
    "    \"Soil_Type40\"\n",
    "]\n",
    "\n",
    "int_columns = [\n",
    "    \"Elevation\", \"Aspect\", \"Slope\", \"Horizontal_Distance_To_Hydrology\",\n",
    "    \"Vertical_Distance_To_Hydrology\", \"Horizontal_Distance_To_Roadways\",\n",
    "    \"Hillshade_9am\", \"Hillshade_Noon\", \"Hillshade_3pm\",\n",
    "    \"Horizontal_Distance_To_Fire_Points\"\n",
    "]\n",
    "\n",
    "feature_columns = (\n",
    "    int_columns + bool_columns + [target])\n"
   ]
  },
  {
   "cell_type": "code",
   "execution_count": 6,
   "metadata": {},
   "outputs": [],
   "source": [
    "# Load the data\n",
    "train = pd.read_csv(out, header=None, names=feature_columns)\n",
    "\n",
    "# set total number of data\n",
    "n_total = len(train)"
   ]
  },
  {
   "cell_type": "code",
   "execution_count": 7,
   "metadata": {},
   "outputs": [
    {
     "data": {
      "text/html": [
       "<div>\n",
       "<style scoped>\n",
       "    .dataframe tbody tr th:only-of-type {\n",
       "        vertical-align: middle;\n",
       "    }\n",
       "\n",
       "    .dataframe tbody tr th {\n",
       "        vertical-align: top;\n",
       "    }\n",
       "\n",
       "    .dataframe thead th {\n",
       "        text-align: right;\n",
       "    }\n",
       "</style>\n",
       "<table border=\"1\" class=\"dataframe\">\n",
       "  <thead>\n",
       "    <tr style=\"text-align: right;\">\n",
       "      <th></th>\n",
       "      <th>Elevation</th>\n",
       "      <th>Aspect</th>\n",
       "      <th>Slope</th>\n",
       "      <th>Horizontal_Distance_To_Hydrology</th>\n",
       "      <th>Vertical_Distance_To_Hydrology</th>\n",
       "      <th>Horizontal_Distance_To_Roadways</th>\n",
       "      <th>Hillshade_9am</th>\n",
       "      <th>Hillshade_Noon</th>\n",
       "      <th>Hillshade_3pm</th>\n",
       "      <th>Horizontal_Distance_To_Fire_Points</th>\n",
       "      <th>...</th>\n",
       "      <th>Soil_Type32</th>\n",
       "      <th>Soil_Type33</th>\n",
       "      <th>Soil_Type34</th>\n",
       "      <th>Soil_Type35</th>\n",
       "      <th>Soil_Type36</th>\n",
       "      <th>Soil_Type37</th>\n",
       "      <th>Soil_Type38</th>\n",
       "      <th>Soil_Type39</th>\n",
       "      <th>Soil_Type40</th>\n",
       "      <th>Covertype</th>\n",
       "    </tr>\n",
       "  </thead>\n",
       "  <tbody>\n",
       "    <tr>\n",
       "      <th>0</th>\n",
       "      <td>2596</td>\n",
       "      <td>51</td>\n",
       "      <td>3</td>\n",
       "      <td>258</td>\n",
       "      <td>0</td>\n",
       "      <td>510</td>\n",
       "      <td>221</td>\n",
       "      <td>232</td>\n",
       "      <td>148</td>\n",
       "      <td>6279</td>\n",
       "      <td>...</td>\n",
       "      <td>0</td>\n",
       "      <td>0</td>\n",
       "      <td>0</td>\n",
       "      <td>0</td>\n",
       "      <td>0</td>\n",
       "      <td>0</td>\n",
       "      <td>0</td>\n",
       "      <td>0</td>\n",
       "      <td>0</td>\n",
       "      <td>5</td>\n",
       "    </tr>\n",
       "    <tr>\n",
       "      <th>1</th>\n",
       "      <td>2590</td>\n",
       "      <td>56</td>\n",
       "      <td>2</td>\n",
       "      <td>212</td>\n",
       "      <td>-6</td>\n",
       "      <td>390</td>\n",
       "      <td>220</td>\n",
       "      <td>235</td>\n",
       "      <td>151</td>\n",
       "      <td>6225</td>\n",
       "      <td>...</td>\n",
       "      <td>0</td>\n",
       "      <td>0</td>\n",
       "      <td>0</td>\n",
       "      <td>0</td>\n",
       "      <td>0</td>\n",
       "      <td>0</td>\n",
       "      <td>0</td>\n",
       "      <td>0</td>\n",
       "      <td>0</td>\n",
       "      <td>5</td>\n",
       "    </tr>\n",
       "    <tr>\n",
       "      <th>2</th>\n",
       "      <td>2804</td>\n",
       "      <td>139</td>\n",
       "      <td>9</td>\n",
       "      <td>268</td>\n",
       "      <td>65</td>\n",
       "      <td>3180</td>\n",
       "      <td>234</td>\n",
       "      <td>238</td>\n",
       "      <td>135</td>\n",
       "      <td>6121</td>\n",
       "      <td>...</td>\n",
       "      <td>0</td>\n",
       "      <td>0</td>\n",
       "      <td>0</td>\n",
       "      <td>0</td>\n",
       "      <td>0</td>\n",
       "      <td>0</td>\n",
       "      <td>0</td>\n",
       "      <td>0</td>\n",
       "      <td>0</td>\n",
       "      <td>2</td>\n",
       "    </tr>\n",
       "    <tr>\n",
       "      <th>3</th>\n",
       "      <td>2785</td>\n",
       "      <td>155</td>\n",
       "      <td>18</td>\n",
       "      <td>242</td>\n",
       "      <td>118</td>\n",
       "      <td>3090</td>\n",
       "      <td>238</td>\n",
       "      <td>238</td>\n",
       "      <td>122</td>\n",
       "      <td>6211</td>\n",
       "      <td>...</td>\n",
       "      <td>0</td>\n",
       "      <td>0</td>\n",
       "      <td>0</td>\n",
       "      <td>0</td>\n",
       "      <td>0</td>\n",
       "      <td>0</td>\n",
       "      <td>0</td>\n",
       "      <td>0</td>\n",
       "      <td>0</td>\n",
       "      <td>2</td>\n",
       "    </tr>\n",
       "    <tr>\n",
       "      <th>4</th>\n",
       "      <td>2595</td>\n",
       "      <td>45</td>\n",
       "      <td>2</td>\n",
       "      <td>153</td>\n",
       "      <td>-1</td>\n",
       "      <td>391</td>\n",
       "      <td>220</td>\n",
       "      <td>234</td>\n",
       "      <td>150</td>\n",
       "      <td>6172</td>\n",
       "      <td>...</td>\n",
       "      <td>0</td>\n",
       "      <td>0</td>\n",
       "      <td>0</td>\n",
       "      <td>0</td>\n",
       "      <td>0</td>\n",
       "      <td>0</td>\n",
       "      <td>0</td>\n",
       "      <td>0</td>\n",
       "      <td>0</td>\n",
       "      <td>5</td>\n",
       "    </tr>\n",
       "  </tbody>\n",
       "</table>\n",
       "<p>5 rows × 55 columns</p>\n",
       "</div>"
      ],
      "text/plain": [
       "   Elevation  Aspect  Slope  Horizontal_Distance_To_Hydrology  \\\n",
       "0       2596      51      3                               258   \n",
       "1       2590      56      2                               212   \n",
       "2       2804     139      9                               268   \n",
       "3       2785     155     18                               242   \n",
       "4       2595      45      2                               153   \n",
       "\n",
       "   Vertical_Distance_To_Hydrology  Horizontal_Distance_To_Roadways  \\\n",
       "0                               0                              510   \n",
       "1                              -6                              390   \n",
       "2                              65                             3180   \n",
       "3                             118                             3090   \n",
       "4                              -1                              391   \n",
       "\n",
       "   Hillshade_9am  Hillshade_Noon  Hillshade_3pm  \\\n",
       "0            221             232            148   \n",
       "1            220             235            151   \n",
       "2            234             238            135   \n",
       "3            238             238            122   \n",
       "4            220             234            150   \n",
       "\n",
       "   Horizontal_Distance_To_Fire_Points  ...  Soil_Type32  Soil_Type33  \\\n",
       "0                                6279  ...            0            0   \n",
       "1                                6225  ...            0            0   \n",
       "2                                6121  ...            0            0   \n",
       "3                                6211  ...            0            0   \n",
       "4                                6172  ...            0            0   \n",
       "\n",
       "   Soil_Type34  Soil_Type35  Soil_Type36  Soil_Type37  Soil_Type38  \\\n",
       "0            0            0            0            0            0   \n",
       "1            0            0            0            0            0   \n",
       "2            0            0            0            0            0   \n",
       "3            0            0            0            0            0   \n",
       "4            0            0            0            0            0   \n",
       "\n",
       "   Soil_Type39  Soil_Type40  Covertype  \n",
       "0            0            0          5  \n",
       "1            0            0          5  \n",
       "2            0            0          2  \n",
       "3            0            0          2  \n",
       "4            0            0          5  \n",
       "\n",
       "[5 rows x 55 columns]"
      ]
     },
     "execution_count": 7,
     "metadata": {},
     "output_type": "execute_result"
    }
   ],
   "source": [
    "# Check the first 5 rows\n",
    "train.head()"
   ]
  },
  {
   "cell_type": "code",
   "execution_count": 8,
   "metadata": {},
   "outputs": [
    {
     "name": "stdout",
     "output_type": "stream",
     "text": [
      "<class 'pandas.core.frame.DataFrame'>\n",
      "RangeIndex: 581012 entries, 0 to 581011\n",
      "Data columns (total 55 columns):\n",
      " #   Column                              Non-Null Count   Dtype\n",
      "---  ------                              --------------   -----\n",
      " 0   Elevation                           581012 non-null  int64\n",
      " 1   Aspect                              581012 non-null  int64\n",
      " 2   Slope                               581012 non-null  int64\n",
      " 3   Horizontal_Distance_To_Hydrology    581012 non-null  int64\n",
      " 4   Vertical_Distance_To_Hydrology      581012 non-null  int64\n",
      " 5   Horizontal_Distance_To_Roadways     581012 non-null  int64\n",
      " 6   Hillshade_9am                       581012 non-null  int64\n",
      " 7   Hillshade_Noon                      581012 non-null  int64\n",
      " 8   Hillshade_3pm                       581012 non-null  int64\n",
      " 9   Horizontal_Distance_To_Fire_Points  581012 non-null  int64\n",
      " 10  Wilderness_Area1                    581012 non-null  int64\n",
      " 11  Wilderness_Area2                    581012 non-null  int64\n",
      " 12  Wilderness_Area3                    581012 non-null  int64\n",
      " 13  Wilderness_Area4                    581012 non-null  int64\n",
      " 14  Soil_Type1                          581012 non-null  int64\n",
      " 15  Soil_Type2                          581012 non-null  int64\n",
      " 16  Soil_Type3                          581012 non-null  int64\n",
      " 17  Soil_Type4                          581012 non-null  int64\n",
      " 18  Soil_Type5                          581012 non-null  int64\n",
      " 19  Soil_Type6                          581012 non-null  int64\n",
      " 20  Soil_Type7                          581012 non-null  int64\n",
      " 21  Soil_Type8                          581012 non-null  int64\n",
      " 22  Soil_Type9                          581012 non-null  int64\n",
      " 23  Soil_Type10                         581012 non-null  int64\n",
      " 24  Soil_Type11                         581012 non-null  int64\n",
      " 25  Soil_Type12                         581012 non-null  int64\n",
      " 26  Soil_Type13                         581012 non-null  int64\n",
      " 27  Soil_Type14                         581012 non-null  int64\n",
      " 28  Soil_Type15                         581012 non-null  int64\n",
      " 29  Soil_Type16                         581012 non-null  int64\n",
      " 30  Soil_Type17                         581012 non-null  int64\n",
      " 31  Soil_Type18                         581012 non-null  int64\n",
      " 32  Soil_Type19                         581012 non-null  int64\n",
      " 33  Soil_Type20                         581012 non-null  int64\n",
      " 34  Soil_Type21                         581012 non-null  int64\n",
      " 35  Soil_Type22                         581012 non-null  int64\n",
      " 36  Soil_Type23                         581012 non-null  int64\n",
      " 37  Soil_Type24                         581012 non-null  int64\n",
      " 38  Soil_Type25                         581012 non-null  int64\n",
      " 39  Soil_Type26                         581012 non-null  int64\n",
      " 40  Soil_Type27                         581012 non-null  int64\n",
      " 41  Soil_Type28                         581012 non-null  int64\n",
      " 42  Soil_Type29                         581012 non-null  int64\n",
      " 43  Soil_Type30                         581012 non-null  int64\n",
      " 44  Soil_Type31                         581012 non-null  int64\n",
      " 45  Soil_Type32                         581012 non-null  int64\n",
      " 46  Soil_Type33                         581012 non-null  int64\n",
      " 47  Soil_Type34                         581012 non-null  int64\n",
      " 48  Soil_Type35                         581012 non-null  int64\n",
      " 49  Soil_Type36                         581012 non-null  int64\n",
      " 50  Soil_Type37                         581012 non-null  int64\n",
      " 51  Soil_Type38                         581012 non-null  int64\n",
      " 52  Soil_Type39                         581012 non-null  int64\n",
      " 53  Soil_Type40                         581012 non-null  int64\n",
      " 54  Covertype                           581012 non-null  int64\n",
      "dtypes: int64(55)\n",
      "memory usage: 243.8 MB\n"
     ]
    }
   ],
   "source": [
    "# Check the data types\n",
    "train.info()"
   ]
  },
  {
   "cell_type": "markdown",
   "metadata": {},
   "source": [
    "# Splitting Dataset"
   ]
  },
  {
   "cell_type": "code",
   "execution_count": 9,
   "metadata": {},
   "outputs": [],
   "source": [
    "# Test train split stratified by Covertype\n",
    "train_val_indices, test_indices = train_test_split(range(n_total), test_size=0.2, random_state=0, stratify=train[target])\n",
    "train_indices, valid_indices = train_test_split(train_val_indices, test_size=0.2 / 0.6, random_state=0, stratify=train[target][train_val_indices])"
   ]
  },
  {
   "cell_type": "code",
   "execution_count": 10,
   "metadata": {},
   "outputs": [
    {
     "data": {
      "text/plain": [
       "(309872, 154937, 116203)"
      ]
     },
     "execution_count": 10,
     "metadata": {},
     "output_type": "execute_result"
    }
   ],
   "source": [
    "# Check the shape of the data\n",
    "len(train_indices), len(valid_indices), len(test_indices)"
   ]
  },
  {
   "cell_type": "code",
   "execution_count": 11,
   "metadata": {},
   "outputs": [
    {
     "data": {
      "text/plain": [
       "Covertype\n",
       "2    0.487599\n",
       "1    0.364605\n",
       "3    0.061537\n",
       "7    0.035300\n",
       "6    0.029891\n",
       "5    0.016339\n",
       "4    0.004728\n",
       "Name: proportion, dtype: float64"
      ]
     },
     "execution_count": 11,
     "metadata": {},
     "output_type": "execute_result"
    }
   ],
   "source": [
    "# Check the distribution of the target\n",
    "train[target].value_counts(normalize=True)"
   ]
  },
  {
   "cell_type": "markdown",
   "metadata": {},
   "source": [
    "# Preprocessing Data"
   ]
  },
  {
   "cell_type": "code",
   "execution_count": 12,
   "metadata": {},
   "outputs": [],
   "source": [
    "# Label Encode the target\n",
    "categorical_columns = []\n",
    "categorical_dims =  {}\n",
    "for col in train.columns[train.dtypes == object]:\n",
    "    print(col, train[col].nunique())\n",
    "    l_enc = LabelEncoder()\n",
    "    train[col] = train[col].fillna(\"VV_likely\")\n",
    "    train[col] = l_enc.fit_transform(train[col].values)\n",
    "    categorical_columns.append(col)\n",
    "    categorical_dims[col] = len(l_enc.classes_)\n",
    "\n",
    "for col in train.columns[train.dtypes == 'float64']:\n",
    "    train.fillna(train.loc[train_indices, col].mean(), inplace=True)"
   ]
  },
  {
   "cell_type": "markdown",
   "metadata": {},
   "source": [
    "# Define categorical features for categorical embeddings"
   ]
  },
  {
   "cell_type": "code",
   "execution_count": 13,
   "metadata": {},
   "outputs": [],
   "source": [
    "# Define the features\n",
    "unused_feat = []\n",
    "\n",
    "features = [ col for col in train.columns if col not in unused_feat+[target]] \n",
    "\n",
    "cat_idxs = [ i for i, f in enumerate(features) if f in categorical_columns]\n",
    "\n",
    "cat_dims = [ categorical_dims[f] for i, f in enumerate(features) if f in categorical_columns]"
   ]
  },
  {
   "cell_type": "markdown",
   "metadata": {},
   "source": [
    "# Network parameters"
   ]
  },
  {
   "cell_type": "code",
   "execution_count": 14,
   "metadata": {},
   "outputs": [
    {
     "name": "stderr",
     "output_type": "stream",
     "text": [
      "c:\\Users\\hasan\\anaconda3\\envs\\pytorch\\lib\\site-packages\\pytorch_tabnet\\abstract_model.py:82: UserWarning: Device used : cuda\n",
      "  warnings.warn(f\"Device used : {self.device}\")\n"
     ]
    }
   ],
   "source": [
    "# Define the model\n",
    "clf = TabNetClassifier(\n",
    "    n_d=64, n_a=64, n_steps=5,\n",
    "    gamma=1.5, n_independent=2, n_shared=2,\n",
    "    cat_idxs=cat_idxs,\n",
    "    cat_dims=cat_dims,\n",
    "    cat_emb_dim=1,\n",
    "    lambda_sparse=1e-4, momentum=0.3, clip_value=2.,\n",
    "    optimizer_fn=torch.optim.Adam,\n",
    "    optimizer_params=dict(lr=2e-2),\n",
    "    scheduler_params = {\"gamma\": 0.95,\n",
    "                     \"step_size\": 20},\n",
    "    scheduler_fn=torch.optim.lr_scheduler.StepLR, epsilon=1e-15\n",
    ")"
   ]
  },
  {
   "cell_type": "markdown",
   "metadata": {},
   "source": [
    "# Model Traning"
   ]
  },
  {
   "cell_type": "code",
   "execution_count": 15,
   "metadata": {},
   "outputs": [],
   "source": [
    "if os.getenv(\"CI\", False):\n",
    "# Take only a subsample to run CI\n",
    "    X_train = train[features].values[train_indices][:1000,:]\n",
    "    y_train = train[target].values[train_indices][:1000]\n",
    "else:\n",
    "    X_train = train[features].values[train_indices]\n",
    "    y_train = train[target].values[train_indices]\n",
    "\n",
    "X_valid = train[features].values[valid_indices]\n",
    "y_valid = train[target].values[valid_indices]\n",
    "\n",
    "X_test = train[features].values[test_indices]\n",
    "y_test = train[target].values[test_indices]"
   ]
  },
  {
   "cell_type": "code",
   "execution_count": 16,
   "metadata": {},
   "outputs": [],
   "source": [
    "# Max epochs\n",
    "max_epochs = 100 if not os.getenv(\"CI\", False) else 5"
   ]
  },
  {
   "cell_type": "code",
   "execution_count": 17,
   "metadata": {},
   "outputs": [
    {
     "name": "stdout",
     "output_type": "stream",
     "text": [
      "epoch 0  | loss: 0.72735 | train_accuracy: 0.7252  | valid_accuracy: 0.72248 |  0:01:27s\n",
      "epoch 1  | loss: 0.611   | train_accuracy: 0.75889 | valid_accuracy: 0.75658 |  0:02:51s\n",
      "epoch 2  | loss: 0.54484 | train_accuracy: 0.79613 | valid_accuracy: 0.79344 |  0:04:15s\n",
      "epoch 3  | loss: 0.49156 | train_accuracy: 0.80389 | valid_accuracy: 0.80012 |  0:05:38s\n",
      "epoch 4  | loss: 0.46951 | train_accuracy: 0.82575 | valid_accuracy: 0.8212  |  0:07:03s\n",
      "epoch 5  | loss: 0.42831 | train_accuracy: 0.84507 | valid_accuracy: 0.83964 |  0:08:28s\n",
      "epoch 6  | loss: 0.39359 | train_accuracy: 0.86267 | valid_accuracy: 0.85703 |  0:09:52s\n",
      "epoch 7  | loss: 0.36168 | train_accuracy: 0.87294 | valid_accuracy: 0.86749 |  0:11:16s\n",
      "epoch 8  | loss: 0.34256 | train_accuracy: 0.87709 | valid_accuracy: 0.87008 |  0:12:41s\n",
      "epoch 9  | loss: 0.3194  | train_accuracy: 0.89001 | valid_accuracy: 0.88286 |  0:14:04s\n",
      "epoch 10 | loss: 0.30044 | train_accuracy: 0.90058 | valid_accuracy: 0.89339 |  0:15:30s\n",
      "epoch 11 | loss: 0.28809 | train_accuracy: 0.90591 | valid_accuracy: 0.89757 |  0:16:57s\n",
      "epoch 12 | loss: 0.27514 | train_accuracy: 0.91226 | valid_accuracy: 0.90353 |  0:18:25s\n",
      "epoch 13 | loss: 0.26692 | train_accuracy: 0.91497 | valid_accuracy: 0.90715 |  0:19:49s\n",
      "epoch 14 | loss: 0.25696 | train_accuracy: 0.9103  | valid_accuracy: 0.90079 |  0:21:14s\n",
      "epoch 15 | loss: 0.2484  | train_accuracy: 0.92343 | valid_accuracy: 0.91274 |  0:22:39s\n",
      "epoch 16 | loss: 0.24306 | train_accuracy: 0.9211  | valid_accuracy: 0.9126  |  0:24:00s\n",
      "epoch 17 | loss: 0.23664 | train_accuracy: 0.92307 | valid_accuracy: 0.91285 |  0:25:22s\n",
      "epoch 18 | loss: 0.23277 | train_accuracy: 0.92491 | valid_accuracy: 0.91475 |  0:26:44s\n",
      "epoch 19 | loss: 0.22641 | train_accuracy: 0.92753 | valid_accuracy: 0.91682 |  0:28:06s\n",
      "epoch 20 | loss: 0.22041 | train_accuracy: 0.92716 | valid_accuracy: 0.9172  |  0:29:34s\n",
      "epoch 21 | loss: 0.21471 | train_accuracy: 0.92831 | valid_accuracy: 0.9189  |  0:31:01s\n",
      "epoch 22 | loss: 0.21435 | train_accuracy: 0.93418 | valid_accuracy: 0.92322 |  0:32:24s\n",
      "epoch 23 | loss: 0.21019 | train_accuracy: 0.9348  | valid_accuracy: 0.92292 |  0:33:51s\n",
      "epoch 24 | loss: 0.2078  | train_accuracy: 0.93489 | valid_accuracy: 0.92351 |  0:35:15s\n",
      "epoch 25 | loss: 0.20373 | train_accuracy: 0.93925 | valid_accuracy: 0.92827 |  0:36:40s\n",
      "epoch 26 | loss: 0.20211 | train_accuracy: 0.93975 | valid_accuracy: 0.92833 |  0:38:06s\n",
      "epoch 27 | loss: 0.19872 | train_accuracy: 0.9395  | valid_accuracy: 0.92767 |  0:39:33s\n",
      "epoch 28 | loss: 0.19712 | train_accuracy: 0.94023 | valid_accuracy: 0.92762 |  0:40:57s\n",
      "epoch 29 | loss: 0.19398 | train_accuracy: 0.93919 | valid_accuracy: 0.92663 |  0:42:23s\n",
      "epoch 30 | loss: 0.19518 | train_accuracy: 0.9419  | valid_accuracy: 0.92962 |  0:43:52s\n",
      "epoch 31 | loss: 0.19037 | train_accuracy: 0.94336 | valid_accuracy: 0.93174 |  0:45:18s\n",
      "epoch 32 | loss: 0.19067 | train_accuracy: 0.94052 | valid_accuracy: 0.92877 |  0:46:47s\n",
      "epoch 33 | loss: 0.18893 | train_accuracy: 0.94499 | valid_accuracy: 0.93155 |  0:48:16s\n",
      "epoch 34 | loss: 0.18766 | train_accuracy: 0.94628 | valid_accuracy: 0.93359 |  0:49:45s\n",
      "epoch 35 | loss: 0.18604 | train_accuracy: 0.94432 | valid_accuracy: 0.93228 |  0:51:14s\n",
      "epoch 36 | loss: 0.1851  | train_accuracy: 0.94305 | valid_accuracy: 0.93018 |  0:52:43s\n",
      "epoch 37 | loss: 0.18255 | train_accuracy: 0.94288 | valid_accuracy: 0.92971 |  0:54:13s\n",
      "epoch 38 | loss: 0.18045 | train_accuracy: 0.94793 | valid_accuracy: 0.93458 |  0:55:39s\n",
      "epoch 39 | loss: 0.17913 | train_accuracy: 0.94674 | valid_accuracy: 0.93425 |  0:57:07s\n",
      "epoch 40 | loss: 0.17528 | train_accuracy: 0.94548 | valid_accuracy: 0.93177 |  0:58:34s\n",
      "epoch 41 | loss: 0.17462 | train_accuracy: 0.95021 | valid_accuracy: 0.93685 |  1:00:01s\n",
      "epoch 42 | loss: 0.17442 | train_accuracy: 0.94896 | valid_accuracy: 0.93641 |  1:01:30s\n",
      "epoch 43 | loss: 0.17249 | train_accuracy: 0.94984 | valid_accuracy: 0.93541 |  1:02:56s\n",
      "epoch 44 | loss: 0.1727  | train_accuracy: 0.94797 | valid_accuracy: 0.93448 |  1:04:26s\n",
      "epoch 45 | loss: 0.17033 | train_accuracy: 0.95075 | valid_accuracy: 0.93718 |  1:05:54s\n",
      "epoch 46 | loss: 0.16858 | train_accuracy: 0.9505  | valid_accuracy: 0.93748 |  1:07:22s\n",
      "epoch 47 | loss: 0.1691  | train_accuracy: 0.95249 | valid_accuracy: 0.93886 |  1:08:51s\n",
      "epoch 48 | loss: 0.16828 | train_accuracy: 0.95356 | valid_accuracy: 0.93928 |  1:10:18s\n",
      "epoch 49 | loss: 0.16701 | train_accuracy: 0.9513  | valid_accuracy: 0.93737 |  1:11:47s\n",
      "epoch 50 | loss: 0.1651  | train_accuracy: 0.95381 | valid_accuracy: 0.93932 |  1:13:15s\n",
      "epoch 51 | loss: 0.16554 | train_accuracy: 0.95414 | valid_accuracy: 0.93947 |  1:14:42s\n",
      "epoch 52 | loss: 0.16332 | train_accuracy: 0.95396 | valid_accuracy: 0.93938 |  1:16:10s\n",
      "epoch 53 | loss: 0.16502 | train_accuracy: 0.95409 | valid_accuracy: 0.94023 |  1:17:38s\n",
      "epoch 54 | loss: 0.16196 | train_accuracy: 0.95478 | valid_accuracy: 0.94057 |  1:19:05s\n",
      "epoch 55 | loss: 0.16229 | train_accuracy: 0.95322 | valid_accuracy: 0.93898 |  1:20:31s\n",
      "epoch 56 | loss: 0.16003 | train_accuracy: 0.95584 | valid_accuracy: 0.94037 |  1:21:56s\n",
      "epoch 57 | loss: 0.15996 | train_accuracy: 0.95421 | valid_accuracy: 0.93863 |  1:23:24s\n",
      "epoch 58 | loss: 0.15859 | train_accuracy: 0.95488 | valid_accuracy: 0.9404  |  1:24:51s\n",
      "epoch 59 | loss: 0.15791 | train_accuracy: 0.95225 | valid_accuracy: 0.93834 |  1:26:20s\n",
      "epoch 60 | loss: 0.15608 | train_accuracy: 0.95467 | valid_accuracy: 0.93921 |  1:27:46s\n",
      "epoch 61 | loss: 0.15574 | train_accuracy: 0.95504 | valid_accuracy: 0.94086 |  1:29:13s\n",
      "epoch 62 | loss: 0.15371 | train_accuracy: 0.95188 | valid_accuracy: 0.93774 |  1:30:41s\n",
      "epoch 63 | loss: 0.15398 | train_accuracy: 0.95666 | valid_accuracy: 0.94145 |  1:32:10s\n",
      "epoch 64 | loss: 0.15273 | train_accuracy: 0.95899 | valid_accuracy: 0.94344 |  1:33:38s\n",
      "epoch 65 | loss: 0.15299 | train_accuracy: 0.95982 | valid_accuracy: 0.9445  |  1:35:06s\n",
      "epoch 66 | loss: 0.15209 | train_accuracy: 0.95742 | valid_accuracy: 0.94262 |  1:36:32s\n",
      "epoch 67 | loss: 0.15193 | train_accuracy: 0.95744 | valid_accuracy: 0.94303 |  1:38:00s\n",
      "epoch 68 | loss: 0.15034 | train_accuracy: 0.95881 | valid_accuracy: 0.94256 |  1:39:29s\n",
      "epoch 69 | loss: 0.14919 | train_accuracy: 0.95929 | valid_accuracy: 0.94298 |  1:40:55s\n",
      "epoch 70 | loss: 0.15    | train_accuracy: 0.9585  | valid_accuracy: 0.94243 |  1:42:23s\n",
      "epoch 71 | loss: 0.15148 | train_accuracy: 0.95953 | valid_accuracy: 0.94398 |  1:43:51s\n",
      "epoch 72 | loss: 0.14768 | train_accuracy: 0.96111 | valid_accuracy: 0.94549 |  1:45:19s\n",
      "epoch 73 | loss: 0.14731 | train_accuracy: 0.96042 | valid_accuracy: 0.94367 |  1:46:48s\n",
      "epoch 74 | loss: 0.14763 | train_accuracy: 0.96075 | valid_accuracy: 0.94475 |  1:48:15s\n",
      "epoch 75 | loss: 0.14779 | train_accuracy: 0.96061 | valid_accuracy: 0.94456 |  1:49:43s\n",
      "epoch 76 | loss: 0.14578 | train_accuracy: 0.95877 | valid_accuracy: 0.94333 |  1:51:12s\n",
      "epoch 77 | loss: 0.14693 | train_accuracy: 0.95951 | valid_accuracy: 0.94361 |  1:52:40s\n",
      "epoch 78 | loss: 0.14564 | train_accuracy: 0.96136 | valid_accuracy: 0.94554 |  1:54:08s\n",
      "epoch 79 | loss: 0.14477 | train_accuracy: 0.95963 | valid_accuracy: 0.94301 |  1:55:36s\n",
      "epoch 80 | loss: 0.14474 | train_accuracy: 0.96116 | valid_accuracy: 0.94469 |  1:57:03s\n",
      "epoch 81 | loss: 0.14444 | train_accuracy: 0.96123 | valid_accuracy: 0.94489 |  1:58:32s\n",
      "epoch 82 | loss: 0.1417  | train_accuracy: 0.96209 | valid_accuracy: 0.94557 |  2:00:00s\n",
      "epoch 83 | loss: 0.14073 | train_accuracy: 0.96068 | valid_accuracy: 0.94489 |  2:01:28s\n",
      "epoch 84 | loss: 0.14059 | train_accuracy: 0.96106 | valid_accuracy: 0.94467 |  2:02:56s\n",
      "epoch 85 | loss: 0.14056 | train_accuracy: 0.96157 | valid_accuracy: 0.9457  |  2:04:24s\n",
      "epoch 86 | loss: 0.14038 | train_accuracy: 0.96202 | valid_accuracy: 0.94586 |  2:05:52s\n",
      "epoch 87 | loss: 0.14066 | train_accuracy: 0.96364 | valid_accuracy: 0.9472  |  2:07:20s\n",
      "epoch 88 | loss: 0.13991 | train_accuracy: 0.96209 | valid_accuracy: 0.94502 |  2:08:49s\n",
      "epoch 89 | loss: 0.14017 | train_accuracy: 0.96259 | valid_accuracy: 0.94617 |  2:10:14s\n",
      "epoch 90 | loss: 0.13967 | train_accuracy: 0.96142 | valid_accuracy: 0.94492 |  2:11:42s\n",
      "epoch 91 | loss: 0.14017 | train_accuracy: 0.96374 | valid_accuracy: 0.94701 |  2:13:10s\n",
      "epoch 92 | loss: 0.14088 | train_accuracy: 0.96153 | valid_accuracy: 0.94423 |  2:14:39s\n",
      "epoch 93 | loss: 0.13775 | train_accuracy: 0.96184 | valid_accuracy: 0.94587 |  2:16:07s\n",
      "epoch 94 | loss: 0.13806 | train_accuracy: 0.96433 | valid_accuracy: 0.94709 |  2:17:35s\n",
      "epoch 95 | loss: 0.13686 | train_accuracy: 0.96357 | valid_accuracy: 0.94769 |  2:19:01s\n",
      "epoch 96 | loss: 0.13726 | train_accuracy: 0.96493 | valid_accuracy: 0.94863 |  2:20:29s\n",
      "epoch 97 | loss: 0.13757 | train_accuracy: 0.96348 | valid_accuracy: 0.94729 |  2:21:57s\n",
      "epoch 98 | loss: 0.13647 | train_accuracy: 0.96285 | valid_accuracy: 0.94638 |  2:23:25s\n",
      "epoch 99 | loss: 0.13664 | train_accuracy: 0.96437 | valid_accuracy: 0.94795 |  2:24:51s\n",
      "Stop training because you reached max_epochs = 100 with best_epoch = 96 and best_valid_accuracy = 0.94863\n"
     ]
    },
    {
     "name": "stderr",
     "output_type": "stream",
     "text": [
      "c:\\Users\\hasan\\anaconda3\\envs\\pytorch\\lib\\site-packages\\pytorch_tabnet\\callbacks.py:172: UserWarning: Best weights from best epoch are automatically used!\n",
      "  warnings.warn(wrn_msg)\n"
     ]
    }
   ],
   "source": [
    "clf.fit(\n",
    "    X_train=X_train, y_train=y_train,\n",
    "    eval_set=[(X_train, y_train), (X_valid, y_valid)],\n",
    "    eval_name=['train', 'valid'],\n",
    "    max_epochs=max_epochs, patience=100,\n",
    "    batch_size=256, virtual_batch_size=256\n",
    ") "
   ]
  },
  {
   "cell_type": "markdown",
   "metadata": {},
   "source": [
    "# Plot Loss"
   ]
  },
  {
   "cell_type": "code",
   "execution_count": 18,
   "metadata": {},
   "outputs": [
    {
     "data": {
      "text/plain": [
       "[<matplotlib.lines.Line2D at 0x20bdd386ef0>]"
      ]
     },
     "execution_count": 18,
     "metadata": {},
     "output_type": "execute_result"
    },
    {
     "data": {
      "image/png": "[encoded data removed]",
      "text/plain": [
       "<Figure size 640x480 with 1 Axes>"
      ]
     },
     "metadata": {},
     "output_type": "display_data"
    }
   ],
   "source": [
    "# plot losses\n",
    "plt.plot(clf.history['loss'])"
   ]
  },
  {
   "cell_type": "code",
   "execution_count": 19,
   "metadata": {},
   "outputs": [
    {
     "data": {
      "text/plain": [
       "[<matplotlib.lines.Line2D at 0x20bd9bd6e00>]"
      ]
     },
     "execution_count": 19,
     "metadata": {},
     "output_type": "execute_result"
    },
    {
     "data": {
      "image/png": "[encoded data removed]",
      "text/plain": [
       "<Figure size 640x480 with 1 Axes>"
      ]
     },
     "metadata": {},
     "output_type": "display_data"
    }
   ],
   "source": [
    "# plot accuracy\n",
    "plt.plot(clf.history['train_accuracy'])\n",
    "plt.plot(clf.history['valid_accuracy'])"
   ]
  },
  {
   "cell_type": "markdown",
   "metadata": {},
   "source": [
    "# Prediction"
   ]
  },
  {
   "cell_type": "code",
   "execution_count": 20,
   "metadata": {},
   "outputs": [
    {
     "name": "stdout",
     "output_type": "stream",
     "text": [
      "BEST VALID SCORE FOR forest-cover-type : 0.9486307337821179\n",
      "FINAL TEST SCORE FOR forest-cover-type : 0.9474368131631713\n"
     ]
    }
   ],
   "source": [
    "# To get final results you may need to use a mapping for classes \n",
    "# as you are allowed to use targets like [\"yes\", \"no\", \"maybe\", \"I don't know\"]\n",
    "\n",
    "preds_mapper = { idx : class_name for idx, class_name in enumerate(clf.classes_)}\n",
    "\n",
    "preds = clf.predict_proba(X_test)\n",
    "\n",
    "y_pred = np.vectorize(preds_mapper.get)(np.argmax(preds, axis=1))\n",
    "\n",
    "test_acc = accuracy_score(y_pred=y_pred, y_true=y_test)\n",
    "\n",
    "print(f\"BEST VALID SCORE FOR {dataset_name} : {clf.best_cost}\")\n",
    "print(f\"FINAL TEST SCORE FOR {dataset_name} : {test_acc}\")"
   ]
  },
  {
   "cell_type": "code",
   "execution_count": 21,
   "metadata": {},
   "outputs": [
    {
     "name": "stdout",
     "output_type": "stream",
     "text": [
      "FINAL TEST SCORE FOR forest-cover-type : 0.9474368131631713\n"
     ]
    }
   ],
   "source": [
    "# or you can simply use the predict method\n",
    "\n",
    "y_pred = clf.predict(X_test)\n",
    "test_acc = accuracy_score(y_pred=y_pred, y_true=y_test)\n",
    "print(f\"FINAL TEST SCORE FOR {dataset_name} : {test_acc}\")"
   ]
  },
  {
   "cell_type": "markdown",
   "metadata": {},
   "source": [
    "# Save and Load"
   ]
  },
  {
   "cell_type": "code",
   "execution_count": 22,
   "metadata": {},
   "outputs": [
    {
     "name": "stdout",
     "output_type": "stream",
     "text": [
      "Successfully saved model at Model/TabNet_MultiClass.zip\n"
     ]
    }
   ],
   "source": [
    "# save state dict\n",
    "saved_filename = clf.save_model('Model/TabNet_MultiClass')"
   ]
  },
  {
   "cell_type": "code",
   "execution_count": 23,
   "metadata": {},
   "outputs": [
    {
     "name": "stderr",
     "output_type": "stream",
     "text": [
      "c:\\Users\\hasan\\anaconda3\\envs\\pytorch\\lib\\site-packages\\pytorch_tabnet\\abstract_model.py:82: UserWarning: Device used : cuda\n",
      "  warnings.warn(f\"Device used : {self.device}\")\n",
      "c:\\Users\\hasan\\anaconda3\\envs\\pytorch\\lib\\site-packages\\pytorch_tabnet\\abstract_model.py:454: FutureWarning: You are using `torch.load` with `weights_only=False` (the current default value), which uses the default pickle module implicitly. It is possible to construct malicious pickle data which will execute arbitrary code during unpickling (See https://github.com/pytorch/pytorch/blob/main/SECURITY.md#untrusted-models for more details). In a future release, the default value for `weights_only` will be flipped to `True`. This limits the functions that could be executed during unpickling. Arbitrary objects will no longer be allowed to be loaded via this mode unless they are explicitly allowlisted by the user via `torch.serialization.add_safe_globals`. We recommend you start setting `weights_only=True` for any use case where you don't have full control of the loaded file. Please open an issue on GitHub for any issues related to this experimental feature.\n",
      "  saved_state_dict = torch.load(f, map_location=self.device)\n"
     ]
    }
   ],
   "source": [
    "# define new model and load save parameters\n",
    "loaded_clf = TabNetClassifier()\n",
    "loaded_clf.load_model(saved_filename)"
   ]
  },
  {
   "cell_type": "code",
   "execution_count": 24,
   "metadata": {},
   "outputs": [
    {
     "name": "stdout",
     "output_type": "stream",
     "text": [
      "FINAL TEST SCORE FOR forest-cover-type : 0.9474368131631713\n"
     ]
    }
   ],
   "source": [
    "loaded_preds = loaded_clf.predict_proba(X_test)\n",
    "loaded_y_pred = np.vectorize(preds_mapper.get)(np.argmax(loaded_preds, axis=1))\n",
    "\n",
    "loaded_test_acc = accuracy_score(y_pred=loaded_y_pred, y_true=y_test)\n",
    "\n",
    "print(f\"FINAL TEST SCORE FOR {dataset_name} : {loaded_test_acc}\")"
   ]
  }
 ],
 "metadata": {
  "kernelspec": {
   "display_name": "pytorch",
   "language": "python",
   "name": "python3"
  },
  "language_info": {
   "codemirror_mode": {
    "name": "ipython",
    "version": 3
   },
   "file_extension": ".py",
   "mimetype": "text/x-python",
   "name": "python",
   "nbconvert_exporter": "python",
   "pygments_lexer": "ipython3",
   "version": "3.10.14"
  }
 },
 "nbformat": 4,
 "nbformat_minor": 2
}
