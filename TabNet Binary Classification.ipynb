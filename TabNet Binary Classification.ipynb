{
 "cells": [
  {
   "cell_type": "markdown",
   "metadata": {},
   "source": [
    "# Library"
   ]
  },
  {
   "cell_type": "code",
   "execution_count": 1,
   "metadata": {},
   "outputs": [],
   "source": [
    "# Importing the common libraries\n",
    "import pandas as pd\n",
    "import numpy as np\n",
    "\n",
    "# importing the libraries for data preprocessing\n",
    "from sklearn.model_selection import train_test_split\n",
    "from sklearn.preprocessing import StandardScaler\n",
    "from sklearn.impute import SimpleImputer\n",
    "from sklearn.utils.class_weight import compute_class_weight\n",
    "from sklearn.preprocessing import LabelEncoder\n",
    "\n",
    "# Importing the libraries for the model\n",
    "import torch\n",
    "from pytorch_tabnet.tab_model import TabNetClassifier\n",
    "import xgboost as xgb\n",
    "from imblearn.over_sampling import SMOTE, ADASYN\n",
    "\n",
    "# Importing the libraries for the evaluation\n",
    "import matplotlib.pyplot as plt\n",
    "from sklearn.metrics import classification_report, roc_auc_score\n",
    "\n",
    "# Importing additional libraries\n",
    "import os\n",
    "import wget\n",
    "from pathlib import Path\n",
    "import shutil\n",
    "import gzip\n",
    "import joblib\n"
   ]
  },
  {
   "cell_type": "markdown",
   "metadata": {},
   "source": [
    "# Dataset"
   ]
  },
  {
   "cell_type": "code",
   "execution_count": 2,
   "metadata": {},
   "outputs": [
    {
     "name": "stdout",
     "output_type": "stream",
     "text": [
      "   Survived  Pclass                                               Name  \\\n",
      "0         0       3                             Mr. Owen Harris Braund   \n",
      "1         1       1  Mrs. John Bradley (Florence Briggs Thayer) Cum...   \n",
      "2         1       3                              Miss. Laina Heikkinen   \n",
      "3         1       1        Mrs. Jacques Heath (Lily May Peel) Futrelle   \n",
      "4         0       3                            Mr. William Henry Allen   \n",
      "\n",
      "      Sex   Age  Siblings/Spouses Aboard  Parents/Children Aboard     Fare  \n",
      "0    male  22.0                        1                        0   7.2500  \n",
      "1  female  38.0                        1                        0  71.2833  \n",
      "2  female  26.0                        0                        0   7.9250  \n",
      "3  female  35.0                        1                        0  53.1000  \n",
      "4    male  35.0                        0                        0   8.0500  \n"
     ]
    }
   ],
   "source": [
    "# Download titanic dataset\n",
    "url = 'https://web.stanford.edu/class/archive/cs/cs109/cs109.1166/stuff/titanic.csv'\n",
    "\n",
    "# Define the file paths\n",
    "data_path = Path('data')\n",
    "data_file = data_path / 'titanic.csv'\n",
    "\n",
    "# Store the data in the data folder\n",
    "if not os.path.exists(data_path):\n",
    "    os.makedirs(data_path)\n",
    "\n",
    "# Download the data\n",
    "if not os.path.exists(data_file):\n",
    "    wget.download(url, data_file.as_posix())\n",
    "\n",
    "# Load the data\n",
    "data = pd.read_csv(data_file)\n",
    "\n",
    "# Display the first 5 rows of the data\n",
    "print(data.head())"
   ]
  },
  {
   "cell_type": "code",
   "execution_count": 3,
   "metadata": {},
   "outputs": [
    {
     "name": "stdout",
     "output_type": "stream",
     "text": [
      "<class 'pandas.core.frame.DataFrame'>\n",
      "RangeIndex: 887 entries, 0 to 886\n",
      "Data columns (total 8 columns):\n",
      " #   Column                   Non-Null Count  Dtype  \n",
      "---  ------                   --------------  -----  \n",
      " 0   Survived                 887 non-null    int64  \n",
      " 1   Pclass                   887 non-null    int64  \n",
      " 2   Name                     887 non-null    object \n",
      " 3   Sex                      887 non-null    object \n",
      " 4   Age                      887 non-null    float64\n",
      " 5   Siblings/Spouses Aboard  887 non-null    int64  \n",
      " 6   Parents/Children Aboard  887 non-null    int64  \n",
      " 7   Fare                     887 non-null    float64\n",
      "dtypes: float64(2), int64(4), object(2)\n",
      "memory usage: 55.6+ KB\n"
     ]
    }
   ],
   "source": [
    "# Check the data types of the columns\n",
    "data.info()"
   ]
  },
  {
   "cell_type": "code",
   "execution_count": 4,
   "metadata": {},
   "outputs": [
    {
     "name": "stdout",
     "output_type": "stream",
     "text": [
      "Survived                   0\n",
      "Pclass                     0\n",
      "Sex                        0\n",
      "Age                        0\n",
      "Siblings/Spouses Aboard    0\n",
      "Parents/Children Aboard    0\n",
      "Fare                       0\n",
      "dtype: int64\n"
     ]
    }
   ],
   "source": [
    "# Drop the columns that are not required\n",
    "data.drop(['Name'], axis=1, inplace=True)\n",
    "\n",
    "# Check the missing values in the data\n",
    "print(data.isnull().sum())"
   ]
  },
  {
   "cell_type": "code",
   "execution_count": 5,
   "metadata": {},
   "outputs": [
    {
     "name": "stdout",
     "output_type": "stream",
     "text": [
      "Survived\n",
      "0    545\n",
      "1    342\n",
      "Name: count, dtype: int64\n"
     ]
    }
   ],
   "source": [
    "# Check survived column\n",
    "print(data['Survived'].value_counts())"
   ]
  },
  {
   "cell_type": "code",
   "execution_count": 6,
   "metadata": {},
   "outputs": [],
   "source": [
    "# Define the target and features\n",
    "target = 'Survived'\n",
    "features = data.columns.drop(target)"
   ]
  },
  {
   "cell_type": "markdown",
   "metadata": {},
   "source": [
    "# Splitting Dataset"
   ]
  },
  {
   "cell_type": "code",
   "execution_count": 7,
   "metadata": {},
   "outputs": [],
   "source": [
    "# Split the data into train and test\n",
    "X_train, X_test, y_train, y_test = train_test_split(data[features], data[target], test_size=0.2, random_state=42)"
   ]
  },
  {
   "cell_type": "code",
   "execution_count": 8,
   "metadata": {},
   "outputs": [
    {
     "name": "stdout",
     "output_type": "stream",
     "text": [
      "(709, 6) (178, 6)\n"
     ]
    }
   ],
   "source": [
    "# Check the shape of the train and test data\n",
    "print(X_train.shape, X_test.shape)"
   ]
  },
  {
   "cell_type": "code",
   "execution_count": 9,
   "metadata": {},
   "outputs": [
    {
     "name": "stdout",
     "output_type": "stream",
     "text": [
      "Survived\n",
      "0    434\n",
      "1    275\n",
      "Name: count, dtype: int64\n"
     ]
    }
   ],
   "source": [
    "# Check the class distribution in the target\n",
    "print(y_train.value_counts())"
   ]
  },
  {
   "cell_type": "code",
   "execution_count": 10,
   "metadata": {},
   "outputs": [
    {
     "name": "stdout",
     "output_type": "stream",
     "text": [
      "Pclass\n",
      "3    394\n",
      "1    170\n",
      "2    145\n",
      "Name: count, dtype: int64\n"
     ]
    }
   ],
   "source": [
    "# Check unique values in Pclass\n",
    "print(X_train['Pclass'].value_counts())"
   ]
  },
  {
   "cell_type": "code",
   "execution_count": 11,
   "metadata": {},
   "outputs": [],
   "source": [
    "# Define categorical columns\n",
    "categorical_columns = ['Sex', 'Pclass']  # Include both 'Sex' and 'Pclass'"
   ]
  },
  {
   "cell_type": "markdown",
   "metadata": {},
   "source": [
    "# Preprocessing Data"
   ]
  },
  {
   "cell_type": "markdown",
   "metadata": {},
   "source": [
    "## Label Encoder"
   ]
  },
  {
   "cell_type": "code",
   "execution_count": 12,
   "metadata": {},
   "outputs": [],
   "source": [
    "# Label encoder for the categorical columns using LabelEncoder\n",
    "\n",
    "# Initialize the label encoder\n",
    "label_encoders = {}\n",
    "for cat_col in X_train.select_dtypes(include=['object']).columns:\n",
    "    le = LabelEncoder()\n",
    "    X_train[cat_col] = le.fit_transform(X_train[cat_col])\n",
    "    X_test[cat_col] = le.transform(X_test[cat_col])\n",
    "    label_encoders[cat_col] = le"
   ]
  },
  {
   "cell_type": "code",
   "execution_count": 13,
   "metadata": {},
   "outputs": [
    {
     "data": {
      "text/html": [
       "<div>\n",
       "<style scoped>\n",
       "    .dataframe tbody tr th:only-of-type {\n",
       "        vertical-align: middle;\n",
       "    }\n",
       "\n",
       "    .dataframe tbody tr th {\n",
       "        vertical-align: top;\n",
       "    }\n",
       "\n",
       "    .dataframe thead th {\n",
       "        text-align: right;\n",
       "    }\n",
       "</style>\n",
       "<table border=\"1\" class=\"dataframe\">\n",
       "  <thead>\n",
       "    <tr style=\"text-align: right;\">\n",
       "      <th></th>\n",
       "      <th>Pclass</th>\n",
       "      <th>Sex</th>\n",
       "      <th>Age</th>\n",
       "      <th>Siblings/Spouses Aboard</th>\n",
       "      <th>Parents/Children Aboard</th>\n",
       "      <th>Fare</th>\n",
       "    </tr>\n",
       "  </thead>\n",
       "  <tbody>\n",
       "    <tr>\n",
       "      <th>730</th>\n",
       "      <td>2</td>\n",
       "      <td>1</td>\n",
       "      <td>23.0</td>\n",
       "      <td>0</td>\n",
       "      <td>0</td>\n",
       "      <td>13.000</td>\n",
       "    </tr>\n",
       "    <tr>\n",
       "      <th>390</th>\n",
       "      <td>3</td>\n",
       "      <td>1</td>\n",
       "      <td>28.0</td>\n",
       "      <td>2</td>\n",
       "      <td>0</td>\n",
       "      <td>7.925</td>\n",
       "    </tr>\n",
       "    <tr>\n",
       "      <th>118</th>\n",
       "      <td>3</td>\n",
       "      <td>0</td>\n",
       "      <td>2.0</td>\n",
       "      <td>4</td>\n",
       "      <td>2</td>\n",
       "      <td>31.275</td>\n",
       "    </tr>\n",
       "    <tr>\n",
       "      <th>440</th>\n",
       "      <td>2</td>\n",
       "      <td>0</td>\n",
       "      <td>28.0</td>\n",
       "      <td>0</td>\n",
       "      <td>0</td>\n",
       "      <td>13.000</td>\n",
       "    </tr>\n",
       "    <tr>\n",
       "      <th>309</th>\n",
       "      <td>1</td>\n",
       "      <td>0</td>\n",
       "      <td>18.0</td>\n",
       "      <td>2</td>\n",
       "      <td>2</td>\n",
       "      <td>262.375</td>\n",
       "    </tr>\n",
       "  </tbody>\n",
       "</table>\n",
       "</div>"
      ],
      "text/plain": [
       "     Pclass  Sex   Age  Siblings/Spouses Aboard  Parents/Children Aboard  \\\n",
       "730       2    1  23.0                        0                        0   \n",
       "390       3    1  28.0                        2                        0   \n",
       "118       3    0   2.0                        4                        2   \n",
       "440       2    0  28.0                        0                        0   \n",
       "309       1    0  18.0                        2                        2   \n",
       "\n",
       "        Fare  \n",
       "730   13.000  \n",
       "390    7.925  \n",
       "118   31.275  \n",
       "440   13.000  \n",
       "309  262.375  "
      ]
     },
     "execution_count": 13,
     "metadata": {},
     "output_type": "execute_result"
    }
   ],
   "source": [
    "# Check the first 5 rows of the data\n",
    "X_train.head()"
   ]
  },
  {
   "cell_type": "code",
   "execution_count": 14,
   "metadata": {},
   "outputs": [
    {
     "name": "stdout",
     "output_type": "stream",
     "text": [
      "{'Sex': LabelEncoder()}\n"
     ]
    }
   ],
   "source": [
    "# check label encoders\n",
    "print(label_encoders)"
   ]
  },
  {
   "cell_type": "code",
   "execution_count": 15,
   "metadata": {},
   "outputs": [
    {
     "data": {
      "text/plain": [
       "['Model/label_encoders.pkl']"
      ]
     },
     "execution_count": 15,
     "metadata": {},
     "output_type": "execute_result"
    }
   ],
   "source": [
    "# Save the label encoders using joblib\n",
    "joblib.dump(label_encoders, 'Model/label_encoders.pkl')"
   ]
  },
  {
   "cell_type": "markdown",
   "metadata": {},
   "source": [
    "## Standar scaler"
   ]
  },
  {
   "cell_type": "code",
   "execution_count": 16,
   "metadata": {},
   "outputs": [
    {
     "data": {
      "text/html": [
       "<div>\n",
       "<style scoped>\n",
       "    .dataframe tbody tr th:only-of-type {\n",
       "        vertical-align: middle;\n",
       "    }\n",
       "\n",
       "    .dataframe tbody tr th {\n",
       "        vertical-align: top;\n",
       "    }\n",
       "\n",
       "    .dataframe thead th {\n",
       "        text-align: right;\n",
       "    }\n",
       "</style>\n",
       "<table border=\"1\" class=\"dataframe\">\n",
       "  <thead>\n",
       "    <tr style=\"text-align: right;\">\n",
       "      <th></th>\n",
       "      <th>Pclass</th>\n",
       "      <th>Sex</th>\n",
       "      <th>Age</th>\n",
       "      <th>Siblings/Spouses Aboard</th>\n",
       "      <th>Parents/Children Aboard</th>\n",
       "      <th>Fare</th>\n",
       "    </tr>\n",
       "  </thead>\n",
       "  <tbody>\n",
       "    <tr>\n",
       "      <th>730</th>\n",
       "      <td>2</td>\n",
       "      <td>1</td>\n",
       "      <td>-0.449010</td>\n",
       "      <td>-0.470388</td>\n",
       "      <td>-0.475009</td>\n",
       "      <td>-0.388597</td>\n",
       "    </tr>\n",
       "    <tr>\n",
       "      <th>390</th>\n",
       "      <td>3</td>\n",
       "      <td>1</td>\n",
       "      <td>-0.094153</td>\n",
       "      <td>1.275711</td>\n",
       "      <td>-0.475009</td>\n",
       "      <td>-0.484577</td>\n",
       "    </tr>\n",
       "    <tr>\n",
       "      <th>118</th>\n",
       "      <td>3</td>\n",
       "      <td>0</td>\n",
       "      <td>-1.939405</td>\n",
       "      <td>3.021810</td>\n",
       "      <td>1.992254</td>\n",
       "      <td>-0.042975</td>\n",
       "    </tr>\n",
       "    <tr>\n",
       "      <th>440</th>\n",
       "      <td>2</td>\n",
       "      <td>0</td>\n",
       "      <td>-0.094153</td>\n",
       "      <td>-0.470388</td>\n",
       "      <td>-0.475009</td>\n",
       "      <td>-0.388597</td>\n",
       "    </tr>\n",
       "    <tr>\n",
       "      <th>309</th>\n",
       "      <td>1</td>\n",
       "      <td>0</td>\n",
       "      <td>-0.803866</td>\n",
       "      <td>1.275711</td>\n",
       "      <td>1.992254</td>\n",
       "      <td>4.327664</td>\n",
       "    </tr>\n",
       "  </tbody>\n",
       "</table>\n",
       "</div>"
      ],
      "text/plain": [
       "     Pclass  Sex       Age  Siblings/Spouses Aboard  Parents/Children Aboard  \\\n",
       "730       2    1 -0.449010                -0.470388                -0.475009   \n",
       "390       3    1 -0.094153                 1.275711                -0.475009   \n",
       "118       3    0 -1.939405                 3.021810                 1.992254   \n",
       "440       2    0 -0.094153                -0.470388                -0.475009   \n",
       "309       1    0 -0.803866                 1.275711                 1.992254   \n",
       "\n",
       "         Fare  \n",
       "730 -0.388597  \n",
       "390 -0.484577  \n",
       "118 -0.042975  \n",
       "440 -0.388597  \n",
       "309  4.327664  "
      ]
     },
     "execution_count": 16,
     "metadata": {},
     "output_type": "execute_result"
    }
   ],
   "source": [
    "# Standardize the data without Pclass and Sex columns\n",
    "scaler = StandardScaler()\n",
    "# Select numerical columns\n",
    "numerical_columns = ['Age', 'Siblings/Spouses Aboard','Parents/Children Aboard', 'Fare']\n",
    "# Scale the numerical columns\n",
    "X_train[numerical_columns] = scaler.fit_transform(X_train[numerical_columns])\n",
    "X_test[numerical_columns] = scaler.transform(X_test[numerical_columns])\n",
    "\n",
    "# Check the first 5 rows of the data\n",
    "X_train.head()"
   ]
  },
  {
   "cell_type": "code",
   "execution_count": 17,
   "metadata": {},
   "outputs": [
    {
     "data": {
      "text/plain": [
       "['Model/scaler.pkl']"
      ]
     },
     "execution_count": 17,
     "metadata": {},
     "output_type": "execute_result"
    }
   ],
   "source": [
    "# Save the scaler using joblib\n",
    "joblib.dump(scaler, 'Model/scaler.pkl')"
   ]
  },
  {
   "cell_type": "markdown",
   "metadata": {},
   "source": [
    "# Handle Imbalanced Class"
   ]
  },
  {
   "cell_type": "code",
   "execution_count": 18,
   "metadata": {},
   "outputs": [],
   "source": [
    "# Compute class weights to handle class imbalance\n",
    "class_weights = {\n",
    "    0: len(y_train) / (2 * np.bincount(y_train)[0]),  # Class 0 (Not Survived)\n",
    "    1: len(y_train) / (2 * np.bincount(y_train)[1])   # Class 1 (Survived)\n",
    "}"
   ]
  },
  {
   "cell_type": "code",
   "execution_count": 19,
   "metadata": {},
   "outputs": [
    {
     "name": "stdout",
     "output_type": "stream",
     "text": [
      "{0: np.float64(0.8168202764976958), 1: np.float64(1.289090909090909)}\n"
     ]
    }
   ],
   "source": [
    "# Check class weights\n",
    "print(class_weights)"
   ]
  },
  {
   "cell_type": "markdown",
   "metadata": {},
   "source": [
    "# Modelling TabNet with Weighted Class"
   ]
  },
  {
   "cell_type": "code",
   "execution_count": 20,
   "metadata": {},
   "outputs": [
    {
     "name": "stdout",
     "output_type": "stream",
     "text": [
      "354\n"
     ]
    }
   ],
   "source": [
    "# Calculate n_steps for TabNet\n",
    "n_steps = X_train.shape[0] // 2\n",
    "# print n_steps\n",
    "print(n_steps)"
   ]
  },
  {
   "cell_type": "code",
   "execution_count": 21,
   "metadata": {},
   "outputs": [
    {
     "name": "stderr",
     "output_type": "stream",
     "text": [
      "c:\\Users\\hasan\\anaconda3\\envs\\pytorch\\lib\\site-packages\\pytorch_tabnet\\abstract_model.py:82: UserWarning: Device used : cpu\n",
      "  warnings.warn(f\"Device used : {self.device}\")\n"
     ]
    }
   ],
   "source": [
    "# Initialize TabNet Classifier\n",
    "tabnet = TabNetClassifier(device_name='cpu', n_steps=n_steps)"
   ]
  },
  {
   "cell_type": "code",
   "execution_count": 22,
   "metadata": {},
   "outputs": [
    {
     "name": "stdout",
     "output_type": "stream",
     "text": [
      "epoch 0  | loss: 20.34056| val_0_accuracy: 0.66292 | val_0_logloss: 4.61602 |  0:06:33s\n",
      "epoch 1  | loss: 5.83285 | val_0_accuracy: 0.74157 | val_0_logloss: 1.2372  |  0:12:58s\n",
      "epoch 2  | loss: 2.57245 | val_0_accuracy: 0.74157 | val_0_logloss: 0.75081 |  0:19:24s\n",
      "epoch 3  | loss: 1.23392 | val_0_accuracy: 0.74719 | val_0_logloss: 1.06657 |  0:25:50s\n",
      "epoch 4  | loss: 1.31652 | val_0_accuracy: 0.74157 | val_0_logloss: 3.34852 |  0:32:15s\n",
      "epoch 5  | loss: 1.31736 | val_0_accuracy: 0.6573  | val_0_logloss: 1.40246 |  0:38:41s\n",
      "epoch 6  | loss: 1.27706 | val_0_accuracy: 0.73596 | val_0_logloss: 1.2795  |  0:45:06s\n",
      "epoch 7  | loss: 1.15097 | val_0_accuracy: 0.73034 | val_0_logloss: 1.9046  |  0:51:32s\n",
      "epoch 8  | loss: 1.01815 | val_0_accuracy: 0.73596 | val_0_logloss: 1.95069 |  0:57:58s\n",
      "epoch 9  | loss: 0.99889 | val_0_accuracy: 0.73596 | val_0_logloss: 0.86652 |  1:04:23s\n",
      "epoch 10 | loss: 0.86894 | val_0_accuracy: 0.74157 | val_0_logloss: 1.50886 |  1:10:48s\n",
      "epoch 11 | loss: 0.8808  | val_0_accuracy: 0.70787 | val_0_logloss: 0.91113 |  1:17:12s\n",
      "epoch 12 | loss: 0.86106 | val_0_accuracy: 0.73034 | val_0_logloss: 0.89033 |  1:23:37s\n",
      "epoch 13 | loss: 0.95367 | val_0_accuracy: 0.69663 | val_0_logloss: 0.72581 |  1:30:02s\n",
      "epoch 14 | loss: 0.88804 | val_0_accuracy: 0.70787 | val_0_logloss: 0.72452 |  1:36:29s\n",
      "epoch 15 | loss: 0.86361 | val_0_accuracy: 0.69101 | val_0_logloss: 0.9563  |  1:42:56s\n",
      "epoch 16 | loss: 0.98823 | val_0_accuracy: 0.64607 | val_0_logloss: 0.94598 |  1:49:21s\n",
      "epoch 17 | loss: 0.88659 | val_0_accuracy: 0.68539 | val_0_logloss: 1.22314 |  1:55:46s\n",
      "epoch 18 | loss: 0.83842 | val_0_accuracy: 0.72472 | val_0_logloss: 1.22744 |  2:02:12s\n",
      "epoch 19 | loss: 0.88987 | val_0_accuracy: 0.68539 | val_0_logloss: 1.02632 |  2:08:37s\n",
      "epoch 20 | loss: 0.97538 | val_0_accuracy: 0.70225 | val_0_logloss: 1.19834 |  2:15:04s\n",
      "epoch 21 | loss: 0.961   | val_0_accuracy: 0.67416 | val_0_logloss: 1.06594 |  2:21:29s\n",
      "epoch 22 | loss: 0.89907 | val_0_accuracy: 0.73034 | val_0_logloss: 0.86137 |  2:27:55s\n",
      "epoch 23 | loss: 0.82276 | val_0_accuracy: 0.68539 | val_0_logloss: 1.12626 |  2:34:20s\n",
      "epoch 24 | loss: 0.85034 | val_0_accuracy: 0.71348 | val_0_logloss: 0.88144 |  2:40:46s\n",
      "epoch 25 | loss: 0.85687 | val_0_accuracy: 0.53933 | val_0_logloss: 1.61003 |  2:47:12s\n",
      "epoch 26 | loss: 0.83485 | val_0_accuracy: 0.39888 | val_0_logloss: 1.57135 |  2:53:37s\n",
      "epoch 27 | loss: 0.82367 | val_0_accuracy: 0.71348 | val_0_logloss: 0.82568 |  3:00:03s\n",
      "epoch 28 | loss: 0.8718  | val_0_accuracy: 0.70787 | val_0_logloss: 0.97642 |  3:06:29s\n",
      "epoch 29 | loss: 0.70336 | val_0_accuracy: 0.77528 | val_0_logloss: 0.97676 |  3:12:55s\n",
      "epoch 30 | loss: 0.71999 | val_0_accuracy: 0.74719 | val_0_logloss: 1.25366 |  3:19:21s\n",
      "epoch 31 | loss: 0.76565 | val_0_accuracy: 0.56742 | val_0_logloss: 0.9171  |  3:25:48s\n",
      "epoch 32 | loss: 0.73859 | val_0_accuracy: 0.70225 | val_0_logloss: 1.32435 |  3:32:14s\n",
      "epoch 33 | loss: 0.77575 | val_0_accuracy: 0.70787 | val_0_logloss: 0.99036 |  3:38:41s\n",
      "epoch 34 | loss: 0.72578 | val_0_accuracy: 0.74157 | val_0_logloss: 1.1703  |  3:45:08s\n",
      "epoch 35 | loss: 0.73249 | val_0_accuracy: 0.73596 | val_0_logloss: 1.0169  |  3:51:35s\n",
      "epoch 36 | loss: 0.75637 | val_0_accuracy: 0.73034 | val_0_logloss: 0.78488 |  3:58:01s\n",
      "epoch 37 | loss: 0.75267 | val_0_accuracy: 0.7191  | val_0_logloss: 1.55726 |  4:04:28s\n",
      "epoch 38 | loss: 0.73156 | val_0_accuracy: 0.57865 | val_0_logloss: 1.08454 |  4:10:54s\n",
      "epoch 39 | loss: 0.71821 | val_0_accuracy: 0.66292 | val_0_logloss: 0.95758 |  4:17:20s\n",
      "\n",
      "Early stopping occurred at epoch 39 with best_epoch = 14 and best_val_0_logloss = 0.72452\n"
     ]
    },
    {
     "name": "stderr",
     "output_type": "stream",
     "text": [
      "c:\\Users\\hasan\\anaconda3\\envs\\pytorch\\lib\\site-packages\\pytorch_tabnet\\callbacks.py:172: UserWarning: Best weights from best epoch are automatically used!\n",
      "  warnings.warn(wrn_msg)\n"
     ]
    }
   ],
   "source": [
    "# Train the model with early stopping and accuracy as evaluation metric\n",
    "tabnet.fit(\n",
    "    X_train.values, y_train,\n",
    "    eval_set=[(X_test.values, y_test)],\n",
    "    max_epochs=1000,\n",
    "    batch_size=2,\n",
    "    eval_metric=['accuracy'],\n",
    "    patience=25,  # Early stopping after 10 epochs without improvement\n",
    "    weights=class_weights  # Apply class weights to handle imbalance\n",
    ")"
   ]
  },
  {
   "cell_type": "code",
   "execution_count": 23,
   "metadata": {},
   "outputs": [
    {
     "data": {
      "text/plain": [
       "<matplotlib.legend.Legend at 0x1c10e4d3100>"
      ]
     },
     "execution_count": 23,
     "metadata": {},
     "output_type": "execute_result"
    },
    {
     "data": {
      "image/png": "[encoded data removed]",
      "text/plain": [
       "<Figure size 640x480 with 1 Axes>"
      ]
     },
     "metadata": {},
     "output_type": "display_data"
    }
   ],
   "source": [
    "# Plot the history of the model\n",
    "plt.plot(tabnet.history['loss'], label='train_loss')\n",
    "plt.xlabel('Epochs')\n",
    "plt.title('TabNet Model Loss')\n",
    "plt.ylabel('Loss')\n",
    "plt.legend()"
   ]
  },
  {
   "cell_type": "code",
   "execution_count": 24,
   "metadata": {},
   "outputs": [
    {
     "name": "stdout",
     "output_type": "stream",
     "text": [
      "              precision    recall  f1-score   support\n",
      "\n",
      "           0       0.75      0.79      0.77       111\n",
      "           1       0.62      0.57      0.59        67\n",
      "\n",
      "    accuracy                           0.71       178\n",
      "   macro avg       0.69      0.68      0.68       178\n",
      "weighted avg       0.70      0.71      0.70       178\n",
      "\n"
     ]
    }
   ],
   "source": [
    "# Classification report on test data\n",
    "y_pred = tabnet.predict(X_test.values)\n",
    "\n",
    "# Classification report\n",
    "print(classification_report(y_test, y_pred))"
   ]
  },
  {
   "cell_type": "code",
   "execution_count": 25,
   "metadata": {},
   "outputs": [
    {
     "data": {
      "image/png": "[encoded data removed]",
      "text/plain": [
       "<Figure size 640x480 with 1 Axes>"
      ]
     },
     "metadata": {},
     "output_type": "display_data"
    }
   ],
   "source": [
    "# Plot the feature importance\n",
    "tabnet.feature_importances_\n",
    "plt.bar(features, tabnet.feature_importances_)\n",
    "plt.xticks(rotation=90)\n",
    "plt.ylabel('Feature Importance')\n",
    "plt.show()"
   ]
  },
  {
   "cell_type": "code",
   "execution_count": 26,
   "metadata": {},
   "outputs": [],
   "source": [
    "# Save the model\n",
    "torch.save(tabnet, 'Model/tabnet_model.pt')"
   ]
  },
  {
   "cell_type": "markdown",
   "metadata": {},
   "source": [
    "# XGboost with Weighted Class"
   ]
  },
  {
   "cell_type": "code",
   "execution_count": 27,
   "metadata": {},
   "outputs": [
    {
     "data": {
      "text/plain": [
       "Survived\n",
       "0    434\n",
       "1    275\n",
       "Name: count, dtype: int64"
      ]
     },
     "execution_count": 27,
     "metadata": {},
     "output_type": "execute_result"
    }
   ],
   "source": [
    "# Get class weight from y_train\n",
    "class_weight = y_train.value_counts()\n",
    "class_weight"
   ]
  },
  {
   "cell_type": "code",
   "execution_count": 28,
   "metadata": {},
   "outputs": [
    {
     "data": {
      "text/plain": [
       "Survived\n",
       "0    111\n",
       "1     67\n",
       "Name: count, dtype: int64"
      ]
     },
     "execution_count": 28,
     "metadata": {},
     "output_type": "execute_result"
    }
   ],
   "source": [
    "# Check y_test distribution\n",
    "y_test.value_counts()"
   ]
  },
  {
   "cell_type": "code",
   "execution_count": 29,
   "metadata": {},
   "outputs": [
    {
     "name": "stdout",
     "output_type": "stream",
     "text": [
      "Scale pos weight: 1.5781818181818181\n"
     ]
    }
   ],
   "source": [
    "# Scale pos weight\n",
    "scale_pos_weight = class_weight[0] / class_weight[1]\n",
    "print(f\"Scale pos weight: {scale_pos_weight}\")"
   ]
  },
  {
   "cell_type": "code",
   "execution_count": 30,
   "metadata": {},
   "outputs": [
    {
     "name": "stdout",
     "output_type": "stream",
     "text": [
      "              precision    recall  f1-score   support\n",
      "\n",
      "           0       0.85      0.85      0.85       111\n",
      "           1       0.75      0.75      0.75        67\n",
      "\n",
      "    accuracy                           0.81       178\n",
      "   macro avg       0.80      0.80      0.80       178\n",
      "weighted avg       0.81      0.81      0.81       178\n",
      "\n"
     ]
    }
   ],
   "source": [
    "# Initialize XGBoost Classifier\n",
    "xgb_clf = xgb.XGBClassifier(scale_pos_weight=scale_pos_weight)\n",
    "\n",
    "# Train the model\n",
    "xgb_clf.fit(X_train, y_train)\n",
    "\n",
    "# Classification report on test data\n",
    "y_pred = xgb_clf.predict(X_test)\n",
    "\n",
    "# Classification report\n",
    "print(classification_report(y_test, y_pred))"
   ]
  },
  {
   "cell_type": "code",
   "execution_count": 31,
   "metadata": {},
   "outputs": [
    {
     "data": {
      "text/plain": [
       "<Axes: title={'center': 'Feature importance'}, xlabel='F score', ylabel='Features'>"
      ]
     },
     "execution_count": 31,
     "metadata": {},
     "output_type": "execute_result"
    },
    {
     "data": {
      "image/png": "[encoded data removed]",
      "text/plain": [
       "<Figure size 640x480 with 1 Axes>"
      ]
     },
     "metadata": {},
     "output_type": "display_data"
    }
   ],
   "source": [
    "# Feature importance XGBoost\n",
    "xgb.plot_importance(xgb_clf)"
   ]
  },
  {
   "cell_type": "code",
   "execution_count": 32,
   "metadata": {},
   "outputs": [
    {
     "data": {
      "text/plain": [
       "['Model/xgb_model.pkl']"
      ]
     },
     "execution_count": 32,
     "metadata": {},
     "output_type": "execute_result"
    }
   ],
   "source": [
    "# Save the model\n",
    "joblib.dump(xgb_clf, 'Model/xgb_model.pkl')"
   ]
  }
 ],
 "metadata": {
  "kernelspec": {
   "display_name": "pytorch",
   "language": "python",
   "name": "python3"
  },
  "language_info": {
   "codemirror_mode": {
    "name": "ipython",
    "version": 3
   },
   "file_extension": ".py",
   "mimetype": "text/x-python",
   "name": "python",
   "nbconvert_exporter": "python",
   "pygments_lexer": "ipython3",
   "version": "3.10.14"
  }
 },
 "nbformat": 4,
 "nbformat_minor": 2
}
